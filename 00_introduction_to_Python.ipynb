{
 "cells": [
  {
   "cell_type": "markdown",
   "metadata": {},
   "source": [
    "# Super crash course in Python"
   ]
  },
  {
   "cell_type": "code",
   "execution_count": null,
   "metadata": {},
   "outputs": [],
   "source": [
    "! pip install numpy\n",
    "! pip install pandas\n",
    "! pip install matplotlib"
   ]
  },
  {
   "cell_type": "markdown",
   "metadata": {},
   "source": [
    "## Part 0: Introduction to Jupyter Notebooks\n",
    "\n",
    "### What is a Jupyter Notebook?\n",
    "A Jupyter Notebook is an open-source web application that allows you to create and share documents that contain live code, equations, visualizations, and narrative text. It's a great tool for data analysis, scientific research, and learning to code.\n",
    "\n",
    "### Types of Cells\n",
    "There are mainly two types of cells in Jupyter Notebooks:\n",
    "1. **Code cells**: These cells contain code that can be executed.\n",
    "2. **Markdown cells**: These cells contain text formatted using Markdown, a lightweight markup language that allows you to format the text in various ways.\n",
    "\n",
    "### Creating and Running Cells\n",
    "\n",
    "- **Creating a Code Cell**: To create a new code cell, click on the \"+\" button in the toolbar or use the keyboard shortcut `B` to insert a cell below the current cell. Type your code in the new cell and press `Shift + Enter` to run it.\n",
    "- **Creating a Markdown Cell**: To create a markdown cell, first create a new cell as above, then use the keyboard shortcut `M` to change a cell to markdown. Type your text using Markdown syntax and press `Shift + Enter` to render it.\n",
    "\n",
    "### Adding Cells Above and Below\n",
    "- **Add Cell Below**: Click the \"+\" button in the toolbar or press `B`.\n",
    "- **Add Cell Above**: Press `A`.\n",
    "\n",
    "### What is Markdown?\n",
    "Markdown is a lightweight markup language that you can use to add formatting elements to plaintext text documents. Markdown is used to format text in Jupyter Notebooks.\n",
    "\n",
    "Here are some basic Markdown examples:\n",
    "- **Headings**: Create headings by starting a line with one (for H1), two (for H2), or more `#` characters, followed by a space.\n",
    "- **Bold and Italics**: Use `**` or `__` for **bold** text and `*` or `_` for *italic* text.\n",
    "- **Lists**: Create bullet lists using `*`, `+`, or `-`, followed by a space. Create numbered lists using numbers followed by a period.\n",
    "- **Links**: Create links using `[link text](URL)`."
   ]
  },
  {
   "cell_type": "markdown",
   "metadata": {},
   "source": [
    "Example:\n",
    "# This is an H1 heading\n",
    "## This is an H2 heading\n",
    "\n",
    "**This text is bold**\n",
    "\n",
    "*This text is italic*\n",
    "- This is a list item\n",
    "1. This is a numbered list item\n",
    "\n",
    "[This is a link](https://pubmed.ncbi.nlm.nih.gov/)"
   ]
  },
  {
   "cell_type": "markdown",
   "metadata": {},
   "source": [
    "<div class=\"alert alert-block alert-success\">\n",
    "<b>Exercise 0 </b><p>\n",
    "Create a new markdown cell below this one. Try to create a H1 heading with a title of this course: \"Computational Neurology workshop\" <p>\n",
    "Then, write one word of your choice in bold and one in italic.\n",
    "\n",
    "<p>\n",
    " -End of exercise-\n",
    "    </div>"
   ]
  },
  {
   "cell_type": "markdown",
   "metadata": {},
   "source": [
    "## Part 1: Basics of Python\n",
    "\n",
    "### Print Function\n",
    "The print function is used to display output in Python."
   ]
  },
  {
   "cell_type": "code",
   "execution_count": null,
   "metadata": {},
   "outputs": [],
   "source": [
    "print(\"How cool is Python?!?\")"
   ]
  },
  {
   "cell_type": "markdown",
   "metadata": {},
   "source": [
    "<div class=\"alert alert-block alert-success\">\n",
    "<b>Exercise 1 </b><p>\n",
    "Your turn! First, create a code cell below this one, then use print() to display the name of your favorite brain region. If you don't have one, just print \"The whole brain!\" <p>\n",
    "\n",
    "<p>\n",
    " -End of exercise-\n",
    "    </div>"
   ]
  },
  {
   "cell_type": "markdown",
   "metadata": {},
   "source": [
    "### Variables\n",
    "Variables are used to store information. You can create a variable by simply assigning a value to a name."
   ]
  },
  {
   "cell_type": "code",
   "execution_count": null,
   "metadata": {},
   "outputs": [],
   "source": [
    "x = 5\n",
    "y = \"You are learning Python!\"\n",
    "print(x)\n",
    "print(y)"
   ]
  },
  {
   "cell_type": "markdown",
   "metadata": {},
   "source": [
    "You can combine print and variables to print the value of the variable with f-strings."
   ]
  },
  {
   "cell_type": "code",
   "execution_count": null,
   "metadata": {},
   "outputs": [],
   "source": [
    "print(f\"The value of the variable x is {x}\") # add an f before the \"\" and put your variable into {} to access its value"
   ]
  },
  {
   "cell_type": "markdown",
   "metadata": {},
   "source": [
    "<div class=\"alert alert-block alert-success\">\n",
    "<b>Exercise 2 </b><p>\n",
    "Create a code cell below this one, then create a variable called n_brain_regions and set its value equal to 90. \n",
    "After this, print the value of the variable (doing print(90) is not allowed ;) )<p>\n",
    "\n",
    "<p>\n",
    " -End of exercise-\n",
    "    </div>"
   ]
  },
  {
   "cell_type": "markdown",
   "metadata": {},
   "source": [
    "### Data Types\n",
    "Python has various data types including integers, floats, strings, and booleans."
   ]
  },
  {
   "cell_type": "code",
   "execution_count": null,
   "metadata": {},
   "outputs": [],
   "source": [
    "a = 10       # integer\n",
    "b = 20.5     # float\n",
    "c = \"Brain\"  # string\n",
    "d = True     # boolean, useful for if conditions for example: if something is True, then do some calculations...\n",
    "\n",
    "print(type(a))\n",
    "print(type(b))\n",
    "print(type(c))\n",
    "print(type(d))"
   ]
  },
  {
   "cell_type": "markdown",
   "metadata": {},
   "source": [
    "## Part 2: Data Structures"
   ]
  },
  {
   "cell_type": "markdown",
   "metadata": {},
   "source": [
    "### Lists\n",
    "Lists are ordered collections of items. They are mutable, which means you can change their content."
   ]
  },
  {
   "cell_type": "code",
   "execution_count": null,
   "metadata": {},
   "outputs": [],
   "source": [
    "# Creating a list\n",
    "my_list = [1, 2, 3, 4, 5]\n",
    "print(my_list)"
   ]
  },
  {
   "cell_type": "code",
   "execution_count": null,
   "metadata": {},
   "outputs": [],
   "source": [
    "# Accessing elements\n",
    "print(my_list[0])  # First element\n",
    "print(my_list[-1])  # Last element"
   ]
  },
  {
   "cell_type": "code",
   "execution_count": null,
   "metadata": {},
   "outputs": [],
   "source": [
    "# Add an element at the end of the list\n",
    "my_list.append(6)"
   ]
  },
  {
   "cell_type": "code",
   "execution_count": null,
   "metadata": {},
   "outputs": [],
   "source": [
    "# Modifying elements\n",
    "my_list[0] = 10\n",
    "print(my_list)"
   ]
  },
  {
   "cell_type": "markdown",
   "metadata": {},
   "source": [
    "<div class=\"alert alert-block alert-success\">\n",
    "<b>Exercise 3 </b><p>\n",
    "Your turn! Write a list of three cities you have been to / would like to go to. Print the first city of the list using list[index].\n",
    "<p>\n",
    "\n",
    "<p>\n",
    " -End of exercise-\n",
    "    </div>\n"
   ]
  },
  {
   "cell_type": "code",
   "execution_count": null,
   "metadata": {},
   "outputs": [],
   "source": [
    "# Your code here, uncomment, write the code and run!\n",
    "# cities = ...\n",
    "# print(...)  # Print the first city"
   ]
  },
  {
   "cell_type": "markdown",
   "metadata": {},
   "source": [
    "<div class=\"alert alert-block alert-success\">\n",
    "<b>Exercise Bonus1 </b><p>\n",
    "Use the same cities list that you created before and add a fourth city. Now print the whole list.\n",
    "<p>\n",
    "\n",
    "<p>\n",
    " -End of exercise-\n",
    "    </div>\n"
   ]
  },
  {
   "cell_type": "code",
   "execution_count": null,
   "metadata": {},
   "outputs": [],
   "source": [
    "# cities.???()  # Adding a new city\n",
    "#   # Printing the entire list"
   ]
  },
  {
   "cell_type": "markdown",
   "metadata": {},
   "source": [
    "### Tuples\n",
    "Tuples are ordered collections of items, but unlike lists, they are immutable."
   ]
  },
  {
   "cell_type": "code",
   "execution_count": null,
   "metadata": {},
   "outputs": [],
   "source": [
    "# Creating a tuple\n",
    "my_tuple = (1, 2, 3, 4, 5)\n",
    "print(my_tuple)\n",
    "\n",
    "# Accessing elements\n",
    "print(my_tuple[0])  # First element\n",
    "print(my_tuple[-1])  # Last element"
   ]
  },
  {
   "cell_type": "markdown",
   "metadata": {},
   "source": [
    "Since they are immutable, you can't assign a new value to the tuple using indexing and this will lead to an error."
   ]
  },
  {
   "cell_type": "code",
   "execution_count": null,
   "metadata": {},
   "outputs": [],
   "source": [
    "# Uncomment and run to see the error\n",
    "# my_tuple[0] = 2"
   ]
  },
  {
   "cell_type": "markdown",
   "metadata": {},
   "source": [
    "### Dictionaries\n",
    "Dictionaries are unordered collections of key-value pairs. Keys are unique and immutable."
   ]
  },
  {
   "cell_type": "code",
   "execution_count": null,
   "metadata": {},
   "outputs": [],
   "source": [
    "# Creating a dictionary\n",
    "my_dict = {\"name\": \"Alice\", \"age\": 25, \"subject\": \"Neuroscience\"}\n",
    "print(my_dict)"
   ]
  },
  {
   "cell_type": "code",
   "execution_count": null,
   "metadata": {},
   "outputs": [],
   "source": [
    "# Accessing values\n",
    "print(my_dict[\"name\"])  # Value associated with key 'name'"
   ]
  },
  {
   "cell_type": "code",
   "execution_count": null,
   "metadata": {},
   "outputs": [],
   "source": [
    "# Modifying values\n",
    "my_dict[\"age\"] = 26\n",
    "print(my_dict)"
   ]
  },
  {
   "cell_type": "markdown",
   "metadata": {},
   "source": [
    "<div class=\"alert alert-block alert-success\">\n",
    "<b>Exercise 4 </b><p>\n",
    "Use the following code cell to create a dictionary containing the keys: title, author and an example for a book you like.\n",
    "<p>\n",
    "\n",
    "<p>\n",
    " -End of exercise-\n",
    "    </div>"
   ]
  },
  {
   "cell_type": "code",
   "execution_count": null,
   "metadata": {},
   "outputs": [],
   "source": [
    "## Remember dict = {key: value}\n",
    "## Uncomment the following, create your dictionary and run\n",
    "\n",
    "# dict_book = {...}\n",
    "# print(dict_book[\"title\"])  # Print the title of the book\n",
    "# print(dict_book[\"author\"])  # Print the Author of the book\n",
    "# print(...)  # Print the entire dictionary"
   ]
  },
  {
   "cell_type": "markdown",
   "metadata": {},
   "source": [
    "## Part 3 Functions\n",
    "Functions are reusable blocks of code that perform a specific task. Functions help in organizing code, making it more readable and reusable. You can define a function using the def keyword.\n",
    "The triple \"\"\" allow you to write documentation for the function. It is crucial to remember to comment your functions so that several months from now you will remember what each function does. This will also greatly help other people trying to read your code."
   ]
  },
  {
   "cell_type": "code",
   "execution_count": null,
   "metadata": {},
   "outputs": [],
   "source": [
    "# Define a function to greet a person\n",
    "\n",
    "def greet(name):\n",
    "    \"\"\"\n",
    "    Generates a greeting message for the specified name.\n",
    "\n",
    "    Parameters:\n",
    "        name (str): The name of the person to greet.\n",
    "\n",
    "    Returns:\n",
    "        str: A greeting message in the format \"Hello, {name}!\".\n",
    "    \"\"\"\n",
    "    return f\"Hello, {name}!\"\n",
    "\n",
    "# Call the function\n",
    "print(greet(\"Hans\"))  # Output: Hello, Alice!"
   ]
  },
  {
   "cell_type": "markdown",
   "metadata": {},
   "source": [
    "If you don't know what a function does, ask for help! This works also for functions of packages (e.g., Numpy, see later)"
   ]
  },
  {
   "cell_type": "code",
   "execution_count": null,
   "metadata": {},
   "outputs": [],
   "source": [
    "help(greet)"
   ]
  },
  {
   "cell_type": "markdown",
   "metadata": {},
   "source": [
    "<div class=\"alert alert-block alert-success\">\n",
    "<b>Exercise 5 </b><p>\n",
    "Write a function called \"square\" that simply squares a number (square in Python is: n**power, i.e., 9**2). This function should take as input a number, n, and return its squared value.\n",
    "<p>\n",
    "\n",
    "<p>\n",
    " -End of exercise-\n",
    "    </div>"
   ]
  },
  {
   "cell_type": "code",
   "execution_count": null,
   "metadata": {},
   "outputs": [],
   "source": [
    "# Your code here. Uncomment.\n",
    "\n",
    "#...\n",
    "\n",
    "#result = square(5)\n",
    "#print(result)  # Output: 25\n"
   ]
  },
  {
   "cell_type": "markdown",
   "metadata": {},
   "source": [
    "<div class=\"alert alert-block alert-success\">\n",
    "<b>Exercise Bonus2 </b><p>\n",
    "Modify the previous function in order to calculate the nth power of a number. Hint, the second function should accept 2 arguments, n and power.\n",
    "<p>\n",
    "\n",
    "<p>\n",
    " -End of exercise-\n",
    "    </div>"
   ]
  },
  {
   "cell_type": "markdown",
   "metadata": {},
   "source": [
    "## Part 4: Using Python Packages\n"
   ]
  },
  {
   "cell_type": "markdown",
   "metadata": {},
   "source": [
    "In Python, a package is a way to organize and distribute a collection of modules. A module is simply a file containing Python code that defines functions, classes, or variables, which can be reused in different programs. A package allows you to bundle multiple modules together, making it easier to manage and use code libraries.\n",
    "\n",
    "Think of a package as a toolbox, and each module within it as a specific tool. For example, if you have a toolbox for analyzing brain imaging data, one module might contain functions for reading data files, another for processing the data, and another for visualizing the results.\n",
    "To use a package, you should first install it (here everything is already pre-installed, so you don't have to do it).\n",
    "Then, you simply import the package using the package name. It is useful to give short names to packages so that you have to write less code. \n",
    "\n",
    "Common widely used names are: numpy → np; pandas → pd; matplotlib.pyplot → plt; (see later)"
   ]
  },
  {
   "cell_type": "code",
   "execution_count": null,
   "metadata": {},
   "outputs": [],
   "source": [
    "import numpy as np"
   ]
  },
  {
   "cell_type": "markdown",
   "metadata": {},
   "source": [
    "## Part 5: Introduction to NumPy\n",
    "NumPy is a powerful library for numerical computing in Python. After having imported numpy as np, you can start calling its methods. For example Numpy allows you to create vectors and store numerical values in them. Vectorization dramatically increases the speed of many math operations!"
   ]
  },
  {
   "cell_type": "code",
   "execution_count": null,
   "metadata": {},
   "outputs": [],
   "source": [
    "# Creating a NumPy array\n",
    "array = np.array([1, 2, 3, 4, 5])\n",
    "print(array)"
   ]
  },
  {
   "cell_type": "code",
   "execution_count": null,
   "metadata": {},
   "outputs": [],
   "source": [
    "# Performing operations\n",
    "print(array + 10)\n",
    "print(array * 2)"
   ]
  },
  {
   "cell_type": "markdown",
   "metadata": {},
   "source": [
    "You can perform many interesting operations with numpy!"
   ]
  },
  {
   "cell_type": "code",
   "execution_count": null,
   "metadata": {},
   "outputs": [],
   "source": [
    "# Sum of the elements of an array\n",
    "s = array.sum()\n",
    "print(f\"The sum of all elements of the array is: {s}\")"
   ]
  },
  {
   "cell_type": "code",
   "execution_count": null,
   "metadata": {},
   "outputs": [],
   "source": [
    "# Mean of the elements of an array\n",
    "m = array.mean()\n",
    "print(f\"The mean is: {m}\")"
   ]
  },
  {
   "cell_type": "code",
   "execution_count": null,
   "metadata": {},
   "outputs": [],
   "source": [
    "# Std. deviation of the elements of an array\n",
    "std = array.std()\n",
    "print(f\"The std. dev. is: {std:.2f}\")"
   ]
  },
  {
   "cell_type": "markdown",
   "metadata": {},
   "source": [
    "<div class=\"alert alert-block alert-success\">\n",
    "<b>Exercise 6 </b><p>\n",
    "Create an array containing the values [1, 5, 7] and take its mean using Numpy.\n",
    "<p>\n",
    "\n",
    "<p>\n",
    " -End of exercise-\n",
    "    </div>"
   ]
  },
  {
   "cell_type": "code",
   "execution_count": null,
   "metadata": {},
   "outputs": [],
   "source": [
    "# Your code here ..."
   ]
  },
  {
   "cell_type": "markdown",
   "metadata": {},
   "source": [
    "## Part 6: Introduction to Pandas\n",
    "\n",
    "Pandas is a library for data manipulation and analysis. You can consider it somewhat similar to working with an Excel spreadsheet. You can use Pandas to analyze Excel spreadsheets and all types of tabular data."
   ]
  },
  {
   "cell_type": "code",
   "execution_count": null,
   "metadata": {},
   "outputs": [],
   "source": [
    "import pandas as pd\n",
    "\n",
    "# Creating a DataFrame\n",
    "data = {\n",
    "    \"Name\": [\"Alice\", \"Bob\", \"Charlie\"],\n",
    "    \"Age\": [25, 30, 35],\n",
    "    \"Score\": [85, 90, 95]\n",
    "}\n",
    "df = pd.DataFrame(data)\n",
    "df"
   ]
  },
  {
   "cell_type": "code",
   "execution_count": null,
   "metadata": {},
   "outputs": [],
   "source": [
    "# Accessing data\n",
    "print(df[\"Name\"])  # Accessing a column"
   ]
  },
  {
   "cell_type": "markdown",
   "metadata": {},
   "source": [
    "Pandas has several handy features allowing you to calculate interesting statistics with very few lines of code. One such example is df.describe()"
   ]
  },
  {
   "cell_type": "code",
   "execution_count": null,
   "metadata": {},
   "outputs": [],
   "source": [
    "df.describe()"
   ]
  },
  {
   "cell_type": "markdown",
   "metadata": {},
   "source": [
    "<div class=\"alert alert-block alert-success\">\n",
    "<b>Exercise 7 </b><p>\n",
    "Try to think about a useful example of how you would use Pandas to analyze neuroimaging data. What would be in the rows? What in the columns?\n",
    "<p>\n",
    "\n",
    "<p>\n",
    " -End of exercise-\n",
    "    </div>"
   ]
  },
  {
   "cell_type": "markdown",
   "metadata": {},
   "source": [
    "## Part 7: Introduction to Matplotlib\n",
    "\n",
    "Matplotlib is a plotting library for creating data visualizations. We will use it to plot the results of our simulations.\n",
    "You can plot all kinds of visualizations types, from lines to histograms to barcharts ... to functional connectivity matrices. "
   ]
  },
  {
   "cell_type": "code",
   "execution_count": null,
   "metadata": {},
   "outputs": [],
   "source": [
    "import matplotlib.pyplot as plt\n",
    "\n",
    "# Creating a simple plot\n",
    "plt.plot([1, 2, 3, 4], [1, 4, 9, 16])\n",
    "plt.xlabel(\"X-axis\")\n",
    "plt.ylabel(\"Y-axis\")\n",
    "plt.title(\"Simple Plot\")\n",
    "plt.show()"
   ]
  },
  {
   "cell_type": "code",
   "execution_count": null,
   "metadata": {},
   "outputs": [],
   "source": [
    "# let's create a random matrix and plot it, similar to what we will do with functional connectivity\n",
    "# Create a random matrix\n",
    "m = np.random.rand(90*90).reshape(90,90)\n",
    "# plt.imshow is used to plot the matrix\n",
    "plt.imshow(m)"
   ]
  },
  {
   "cell_type": "markdown",
   "metadata": {},
   "source": [
    "<div class=\"alert alert-block alert-success\">\n",
    "<b>Exercise 8 </b><p>\n",
    "Add to the previous image \"Region Index\" as the x- and y-label. Also add a colorbar (hint: plt.colorbar()). Finally, a title: \"FC\".\n",
    "Show the new image!\n",
    "<p>\n",
    "\n",
    "<p>\n",
    " -End of exercise-\n",
    "    </div>"
   ]
  },
  {
   "cell_type": "code",
   "execution_count": null,
   "metadata": {},
   "outputs": [],
   "source": [
    "# Should look similar to the image below!\n",
    "# Your code below this line:"
   ]
  },
  {
   "cell_type": "markdown",
   "metadata": {},
   "source": [
    "## Bonus: Classes"
   ]
  },
  {
   "cell_type": "markdown",
   "metadata": {},
   "source": [
    "Classes are blueprints for creating objects (instances). A class can contain attributes (variables) and methods (functions) that define the behavior of the objects."
   ]
  },
  {
   "cell_type": "code",
   "execution_count": null,
   "metadata": {},
   "outputs": [],
   "source": [
    "# Define a class named Person\n",
    "class Person:\n",
    "    # Constructor method to initialize the object\n",
    "    def __init__(self, name, age):\n",
    "        self.name = name  # Attribute\n",
    "        self.age = age    # Attribute\n",
    "\n",
    "    # Method to display the person's information\n",
    "    def display_info(self):\n",
    "        return f\"Name: {self.name}, Age: {self.age}\"\n",
    "    \n",
    "    def greet(self):\n",
    "        return f\"Hello, {self.name}! I've been told you are {self.age} years old\"\n",
    "\n",
    "# Create an instance of the Person class\n",
    "person1 = Person(\"Alice\", 30)\n",
    "\n",
    "# Access the attributes\n",
    "print(person1.name)  # Output: Alice\n",
    "print(person1.age)   # Output: 30\n",
    "\n",
    "# Call the method\n",
    "print(person1.display_info())  # Output: Name: Alice, Age: 30\n",
    "print(person1.greet())"
   ]
  },
  {
   "cell_type": "markdown",
   "metadata": {},
   "source": [
    "Breaking It Down\n",
    "\n",
    "Class Definition: class Person:\n",
    "\n",
    "This line defines a new class called Person.\n",
    "\n",
    "Initialization Method: def __init__(self, name, age):\n",
    "\n",
    "This is a special method called a constructor. It runs when you create a new Person object.\n",
    "self refers to the instance of the class (like the specific person you're creating).\n",
    "name and age are parameters you provide when you create a new person.\n",
    "\n",
    "Instance Variables:\n",
    "\n",
    "    self.name = name\n",
    "    self.age = age\n",
    "\n",
    "These lines store the provided name and age in the new Person object."
   ]
  },
  {
   "cell_type": "markdown",
   "metadata": {},
   "source": [
    "<div class=\"alert alert-block alert-success\">\n",
    "<b>Exercise Bonus3 </b><p>\n",
    "Create a class called Brain. This class should be initialized to contain a number of brain regions specified by the user (e.g., 1) and \n",
    "the names of these regions, inside a list (e.g., [\"frontal\"]). Modify the previous display_info() function from the Person class, so that it prints the number of brain regions and their names.\n",
    "Create an instance of the Brain class with 3 brain regions/lobes of your choice and their names as a list. Display the results using display_info()\n",
    "<p>\n",
    "\n",
    "<p>\n",
    " -End of exercise-\n",
    "    </div>"
   ]
  },
  {
   "cell_type": "code",
   "execution_count": null,
   "metadata": {},
   "outputs": [],
   "source": [
    "# Your code here:"
   ]
  }
 ],
 "metadata": {
  "kernelspec": {
   "display_name": "analysis",
   "language": "python",
   "name": "python3"
  },
  "language_info": {
   "codemirror_mode": {
    "name": "ipython",
    "version": 3
   },
   "file_extension": ".py",
   "mimetype": "text/x-python",
   "name": "python",
   "nbconvert_exporter": "python",
   "pygments_lexer": "ipython3",
   "version": "3.11.0"
  }
 },
 "nbformat": 4,
 "nbformat_minor": 2
}
