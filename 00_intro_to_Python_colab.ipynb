{
  "nbformat": 4,
  "nbformat_minor": 0,
  "metadata": {
    "colab": {
      "provenance": [],
      "authorship_tag": "ABX9TyPyxvE1/f3P1HwyVPAHWBjn",
      "include_colab_link": true
    },
    "kernelspec": {
      "name": "python3",
      "display_name": "Python 3"
    },
    "language_info": {
      "name": "python"
    }
  },
  "cells": [
    {
      "cell_type": "markdown",
      "metadata": {
        "id": "view-in-github",
        "colab_type": "text"
      },
      "source": [
        "<a href=\"https://colab.research.google.com/github/computational-neurology/workshop2024/blob/main/00_intro_to_Python_colab.ipynb\" target=\"_parent\"><img src=\"https://colab.research.google.com/assets/colab-badge.svg\" alt=\"Open In Colab\"/></a>"
      ]
    },
    {
      "cell_type": "markdown",
      "source": [
        "# Super crash course in Python"
      ],
      "metadata": {
        "id": "o8d-nq83hMMX"
      }
    },
    {
      "cell_type": "code",
      "source": [
        "! pip install numpy\n",
        "! pip install pandas\n",
        "! pip install matplotlib"
      ],
      "metadata": {
        "colab": {
          "base_uri": "https://localhost:8080/"
        },
        "id": "5RkVng7xhYG7",
        "outputId": "7834aa32-6f8b-4782-9cde-d89c4a7e9bd0"
      },
      "execution_count": 1,
      "outputs": [
        {
          "output_type": "stream",
          "name": "stdout",
          "text": [
            "Requirement already satisfied: numpy in /usr/local/lib/python3.10/dist-packages (1.25.2)\n",
            "Requirement already satisfied: pandas in /usr/local/lib/python3.10/dist-packages (2.0.3)\n",
            "Requirement already satisfied: python-dateutil>=2.8.2 in /usr/local/lib/python3.10/dist-packages (from pandas) (2.8.2)\n",
            "Requirement already satisfied: pytz>=2020.1 in /usr/local/lib/python3.10/dist-packages (from pandas) (2023.4)\n",
            "Requirement already satisfied: tzdata>=2022.1 in /usr/local/lib/python3.10/dist-packages (from pandas) (2024.1)\n",
            "Requirement already satisfied: numpy>=1.21.0 in /usr/local/lib/python3.10/dist-packages (from pandas) (1.25.2)\n",
            "Requirement already satisfied: six>=1.5 in /usr/local/lib/python3.10/dist-packages (from python-dateutil>=2.8.2->pandas) (1.16.0)\n",
            "Requirement already satisfied: matplotlib in /usr/local/lib/python3.10/dist-packages (3.7.1)\n",
            "Requirement already satisfied: contourpy>=1.0.1 in /usr/local/lib/python3.10/dist-packages (from matplotlib) (1.2.1)\n",
            "Requirement already satisfied: cycler>=0.10 in /usr/local/lib/python3.10/dist-packages (from matplotlib) (0.12.1)\n",
            "Requirement already satisfied: fonttools>=4.22.0 in /usr/local/lib/python3.10/dist-packages (from matplotlib) (4.52.4)\n",
            "Requirement already satisfied: kiwisolver>=1.0.1 in /usr/local/lib/python3.10/dist-packages (from matplotlib) (1.4.5)\n",
            "Requirement already satisfied: numpy>=1.20 in /usr/local/lib/python3.10/dist-packages (from matplotlib) (1.25.2)\n",
            "Requirement already satisfied: packaging>=20.0 in /usr/local/lib/python3.10/dist-packages (from matplotlib) (24.0)\n",
            "Requirement already satisfied: pillow>=6.2.0 in /usr/local/lib/python3.10/dist-packages (from matplotlib) (9.4.0)\n",
            "Requirement already satisfied: pyparsing>=2.3.1 in /usr/local/lib/python3.10/dist-packages (from matplotlib) (3.1.2)\n",
            "Requirement already satisfied: python-dateutil>=2.7 in /usr/local/lib/python3.10/dist-packages (from matplotlib) (2.8.2)\n",
            "Requirement already satisfied: six>=1.5 in /usr/local/lib/python3.10/dist-packages (from python-dateutil>=2.7->matplotlib) (1.16.0)\n"
          ]
        }
      ]
    },
    {
      "cell_type": "markdown",
      "source": [
        "## Part 0: Introduction to Jupyter Notebooks\n",
        "\n",
        "### What is a Jupyter Notebook?\n",
        "A Jupyter Notebook is an open-source web application that allows you to create and share documents that contain live code, equations, visualizations, and narrative text. It's a great tool for data analysis, scientific research, and learning to code.\n",
        "\n",
        "### Types of Cells\n",
        "There are mainly two types of cells in Jupyter Notebooks:\n",
        "1. **Code cells**: These cells contain code that can be executed.\n",
        "2. **Markdown cells**: These cells contain text formatted using Markdown, a lightweight markup language that allows you to format the text in various ways.\n",
        "\n",
        "### Creating and Running Cells\n",
        "\n",
        "- **Creating a Code Cell**: To create a new code cell, click on the \"+\" button in the toolbar or use the keyboard shortcut `B` to insert a cell below the current cell. Type your code in the new cell and press `Shift + Enter` to run it.\n",
        "- **Creating a Markdown Cell**: To create a markdown cell, first create a new cell as above, then use the keyboard shortcut `M` to change a cell to markdown. Type your text using Markdown syntax and press `Shift + Enter` to render it.\n",
        "\n",
        "### Adding Cells Above and Below\n",
        "- **Add Cell Below**: Click the \"+\" button in the toolbar or press `B`.\n",
        "- **Add Cell Above**: Press `A`.\n",
        "\n",
        "### What is Markdown?\n",
        "Markdown is a lightweight markup language that you can use to add formatting elements to plaintext text documents. Markdown is used to format text in Jupyter Notebooks.\n",
        "\n",
        "Here are some basic Markdown examples:\n",
        "- **Headings**: Create headings by starting a line with one (for H1), two (for H2), or more `#` characters, followed by a space.\n",
        "- **Bold and Italics**: Use `**` or `__` for **bold** text and `*` or `_` for *italic* text.\n",
        "- **Lists**: Create bullet lists using `*`, `+`, or `-`, followed by a space. Create numbered lists using numbers followed by a period.\n",
        "- **Links**: Create links using `[link text](URL)`."
      ],
      "metadata": {
        "id": "QHtdJFp8hckV"
      }
    },
    {
      "cell_type": "markdown",
      "source": [
        "Example:\n",
        "# This is an H1 heading\n",
        "## This is an H2 heading\n",
        "\n",
        "**This text is bold**\n",
        "\n",
        "*This text is italic*\n",
        "- This is a list item\n",
        "1. This is a numbered list item\n",
        "\n",
        "[This is a link](https://pubmed.ncbi.nlm.nih.gov/)"
      ],
      "metadata": {
        "id": "I0jP4qvyhhAf"
      }
    },
    {
      "cell_type": "markdown",
      "source": [
        "<div class=\"alert alert-block alert-success\">\n",
        "<b>Exercise 0 </b><p>\n",
        "Create a new markdown cell below this one. Try to create a H1 heading with a title of this course: \"Computational Neurology workshop\" <p>\n",
        "Then, write one word of your choice in bold and one in italic.\n",
        "\n",
        "<p>\n",
        " -End of exercise-\n",
        "    </div>"
      ],
      "metadata": {
        "id": "BeOMHDFrhjfL"
      }
    },
    {
      "cell_type": "markdown",
      "source": [
        "## Part 1: Basics of Python\n",
        "\n",
        "### Print Function\n",
        "The print function is used to display output in Python."
      ],
      "metadata": {
        "id": "pgqzFZbohls-"
      }
    },
    {
      "cell_type": "code",
      "source": [
        "print(\"How cool is Python?!?\")"
      ],
      "metadata": {
        "colab": {
          "base_uri": "https://localhost:8080/"
        },
        "id": "LeugaFnNhnE6",
        "outputId": "9a0fe278-3b83-476c-f067-718bdb974b8e"
      },
      "execution_count": 2,
      "outputs": [
        {
          "output_type": "stream",
          "name": "stdout",
          "text": [
            "How cool is Python?!?\n"
          ]
        }
      ]
    },
    {
      "cell_type": "markdown",
      "source": [
        "<div class=\"alert alert-block alert-success\">\n",
        "<b>Exercise 1 </b><p>\n",
        "Your turn! First, create a code cell below this one, then use print() to display the name of your favorite brain region. If you don't have one, just print \"The whole brain!\" <p>\n",
        "\n",
        "<p>\n",
        " -End of exercise-\n",
        "    </div>"
      ],
      "metadata": {
        "id": "_9_dIN41hoaB"
      }
    },
    {
      "cell_type": "markdown",
      "source": [
        "### Variables\n",
        "Variables are used to store information. You can create a variable by simply assigning a value to a name."
      ],
      "metadata": {
        "id": "_mi2ntFUhpvO"
      }
    },
    {
      "cell_type": "code",
      "source": [
        "x = 5\n",
        "y = \"You are learning Python!\"\n",
        "print(x)\n",
        "print(y)"
      ],
      "metadata": {
        "colab": {
          "base_uri": "https://localhost:8080/"
        },
        "id": "iCan_9V8hq2g",
        "outputId": "bf2a1c27-a0a5-4338-a36b-7e061f86396b"
      },
      "execution_count": 3,
      "outputs": [
        {
          "output_type": "stream",
          "name": "stdout",
          "text": [
            "5\n",
            "You are learning Python!\n"
          ]
        }
      ]
    },
    {
      "cell_type": "markdown",
      "source": [
        "You can combine print and variables to print the value of the variable with f-strings."
      ],
      "metadata": {
        "id": "r8TrDG5thsHL"
      }
    },
    {
      "cell_type": "code",
      "source": [
        "print(f\"The value of the variable x is {x}\") # add an f before the \"\" and put your variable into {} to access its value"
      ],
      "metadata": {
        "colab": {
          "base_uri": "https://localhost:8080/"
        },
        "id": "vEE-I8Oxhubx",
        "outputId": "a863e48b-ea10-49fe-9cd0-375be73e1736"
      },
      "execution_count": 4,
      "outputs": [
        {
          "output_type": "stream",
          "name": "stdout",
          "text": [
            "The value of the variable x is 5\n"
          ]
        }
      ]
    },
    {
      "cell_type": "markdown",
      "source": [
        "<div class=\"alert alert-block alert-success\">\n",
        "<b>Exercise 2 </b><p>\n",
        "Create a code cell below this one, then create a variable called n_brain_regions and set its value equal to 90.\n",
        "After this, print the value of the variable (doing print(90) is not allowed ;) )<p>\n",
        "\n",
        "<p>\n",
        " -End of exercise-\n",
        "    </div>"
      ],
      "metadata": {
        "id": "yhKX_pFbhv4-"
      }
    },
    {
      "cell_type": "markdown",
      "source": [
        "### Data Types\n",
        "Python has various data types including integers, floats, strings, and booleans."
      ],
      "metadata": {
        "id": "NjgyVyfKhxXr"
      }
    },
    {
      "cell_type": "code",
      "source": [
        "a = 10       # integer\n",
        "b = 20.5     # float\n",
        "c = \"Brain\"  # string\n",
        "d = True     # boolean, useful for if conditions for example: if something is True, then do some calculations...\n",
        "\n",
        "print(type(a))\n",
        "print(type(b))\n",
        "print(type(c))\n",
        "print(type(d))"
      ],
      "metadata": {
        "colab": {
          "base_uri": "https://localhost:8080/"
        },
        "id": "TTs6CD7Bhyk6",
        "outputId": "664ddad1-9f6e-490c-e3b4-b401a34e2b8d"
      },
      "execution_count": 5,
      "outputs": [
        {
          "output_type": "stream",
          "name": "stdout",
          "text": [
            "<class 'int'>\n",
            "<class 'float'>\n",
            "<class 'str'>\n",
            "<class 'bool'>\n"
          ]
        }
      ]
    },
    {
      "cell_type": "markdown",
      "source": [
        "## Part 2: Data Structures"
      ],
      "metadata": {
        "id": "meL9KkUch2sz"
      }
    },
    {
      "cell_type": "markdown",
      "source": [
        "### Lists\n",
        "Lists are ordered collections of items. They are mutable, which means you can change their content."
      ],
      "metadata": {
        "id": "ehU_KAcgh3-f"
      }
    },
    {
      "cell_type": "code",
      "source": [
        "# Creating a list\n",
        "my_list = [1, 2, 3, 4, 5]\n",
        "print(my_list)"
      ],
      "metadata": {
        "colab": {
          "base_uri": "https://localhost:8080/"
        },
        "id": "X4B-zhV-h5Ix",
        "outputId": "cda3c1d3-f762-4f6f-ab26-7c93bcbbf5fb"
      },
      "execution_count": 6,
      "outputs": [
        {
          "output_type": "stream",
          "name": "stdout",
          "text": [
            "[1, 2, 3, 4, 5]\n"
          ]
        }
      ]
    },
    {
      "cell_type": "code",
      "source": [
        "# Accessing elements\n",
        "print(my_list[0])  # First element\n",
        "print(my_list[-1])  # Last element"
      ],
      "metadata": {
        "colab": {
          "base_uri": "https://localhost:8080/"
        },
        "id": "_PqQuV5vh6KW",
        "outputId": "a118cdd9-2bca-49b1-d589-8b26bd7f5d29"
      },
      "execution_count": 7,
      "outputs": [
        {
          "output_type": "stream",
          "name": "stdout",
          "text": [
            "1\n",
            "5\n"
          ]
        }
      ]
    },
    {
      "cell_type": "code",
      "source": [
        "# Add an element at the end of the list\n",
        "my_list.append(6)"
      ],
      "metadata": {
        "id": "ih8CPLuth7KR"
      },
      "execution_count": 8,
      "outputs": []
    },
    {
      "cell_type": "code",
      "source": [
        "# Modifying elements\n",
        "my_list[0] = 10\n",
        "print(my_list)"
      ],
      "metadata": {
        "colab": {
          "base_uri": "https://localhost:8080/"
        },
        "id": "a5-6Xahoh8O0",
        "outputId": "ca381bec-a0d6-4c27-ec6d-30d54dce8f7c"
      },
      "execution_count": 9,
      "outputs": [
        {
          "output_type": "stream",
          "name": "stdout",
          "text": [
            "[10, 2, 3, 4, 5, 6]\n"
          ]
        }
      ]
    },
    {
      "cell_type": "markdown",
      "source": [
        "<div class=\"alert alert-block alert-success\">\n",
        "<b>Exercise 3 </b><p>\n",
        "Your turn! Write a list of three cities you have been to / would like to go to. Print the first city of the list using list[index].\n",
        "<p>\n",
        "\n",
        "<p>\n",
        " -End of exercise-\n",
        "    </div>\n"
      ],
      "metadata": {
        "id": "BDSrJFeFh9nR"
      }
    },
    {
      "cell_type": "code",
      "source": [
        "# Your code here, uncomment, write the code and run!\n",
        "# cities = ...\n",
        "# print(...)  # Print the first city"
      ],
      "metadata": {
        "id": "ybtIDNhMh-tj"
      },
      "execution_count": 10,
      "outputs": []
    },
    {
      "cell_type": "markdown",
      "source": [
        "<div class=\"alert alert-block alert-success\">\n",
        "<b>Exercise Bonus1 </b><p>\n",
        "Use the same cities list that you created before and add a fourth city. Now print the whole list.\n",
        "<p>\n",
        "\n",
        "<p>\n",
        " -End of exercise-\n",
        "    </div>\n"
      ],
      "metadata": {
        "id": "zAzzBk6-iAOc"
      }
    },
    {
      "cell_type": "code",
      "source": [
        "# cities.???()  # Adding a new city\n",
        "#   # Printing the entire list"
      ],
      "metadata": {
        "id": "IVHFUPn_iBlZ"
      },
      "execution_count": 11,
      "outputs": []
    },
    {
      "cell_type": "markdown",
      "source": [
        "### Tuples\n",
        "Tuples are ordered collections of items, but unlike lists, they are immutable."
      ],
      "metadata": {
        "id": "_8-inScziCzU"
      }
    },
    {
      "cell_type": "code",
      "source": [
        "# Creating a tuple\n",
        "my_tuple = (1, 2, 3, 4, 5)\n",
        "print(my_tuple)\n",
        "\n",
        "# Accessing elements\n",
        "print(my_tuple[0])  # First element\n",
        "print(my_tuple[-1])  # Last element"
      ],
      "metadata": {
        "colab": {
          "base_uri": "https://localhost:8080/"
        },
        "id": "Y-7Slo-jiDu6",
        "outputId": "65f0144c-0414-4715-ea68-f215751e92e6"
      },
      "execution_count": 12,
      "outputs": [
        {
          "output_type": "stream",
          "name": "stdout",
          "text": [
            "(1, 2, 3, 4, 5)\n",
            "1\n",
            "5\n"
          ]
        }
      ]
    },
    {
      "cell_type": "markdown",
      "source": [
        "Since they are immutable, you can't assign a new value to the tuple using indexing and this will lead to an error."
      ],
      "metadata": {
        "id": "NOdITjsyiE3l"
      }
    },
    {
      "cell_type": "code",
      "source": [
        "# Uncomment and run to see the error\n",
        "# my_tuple[0] = 2"
      ],
      "metadata": {
        "id": "ljVFTCV0iGKj"
      },
      "execution_count": 13,
      "outputs": []
    },
    {
      "cell_type": "markdown",
      "source": [
        "### Dictionaries\n",
        "Dictionaries are unordered collections of key-value pairs. Keys are unique and immutable."
      ],
      "metadata": {
        "id": "B4HojJ0biH1v"
      }
    },
    {
      "cell_type": "code",
      "source": [
        "# Creating a dictionary\n",
        "my_dict = {\"name\": \"Alice\", \"age\": 25, \"subject\": \"Neuroscience\"}\n",
        "print(my_dict)"
      ],
      "metadata": {
        "colab": {
          "base_uri": "https://localhost:8080/"
        },
        "id": "yHkRwI-PiI1_",
        "outputId": "9a2c65c4-7710-4930-9bd2-d7e5741b3a4a"
      },
      "execution_count": 14,
      "outputs": [
        {
          "output_type": "stream",
          "name": "stdout",
          "text": [
            "{'name': 'Alice', 'age': 25, 'subject': 'Neuroscience'}\n"
          ]
        }
      ]
    },
    {
      "cell_type": "code",
      "source": [
        "# Accessing values\n",
        "print(my_dict[\"name\"])  # Value associated with key 'name'"
      ],
      "metadata": {
        "colab": {
          "base_uri": "https://localhost:8080/"
        },
        "id": "M-xMVgWciJs-",
        "outputId": "4c90e8c9-f04e-44d8-a94b-1f31270aa4cb"
      },
      "execution_count": 15,
      "outputs": [
        {
          "output_type": "stream",
          "name": "stdout",
          "text": [
            "Alice\n"
          ]
        }
      ]
    },
    {
      "cell_type": "code",
      "source": [
        "# Modifying values\n",
        "my_dict[\"age\"] = 26\n",
        "print(my_dict)"
      ],
      "metadata": {
        "colab": {
          "base_uri": "https://localhost:8080/"
        },
        "id": "B3CeqGgciLC9",
        "outputId": "49aef867-12c0-4814-9067-bd968eddad4b"
      },
      "execution_count": 16,
      "outputs": [
        {
          "output_type": "stream",
          "name": "stdout",
          "text": [
            "{'name': 'Alice', 'age': 26, 'subject': 'Neuroscience'}\n"
          ]
        }
      ]
    },
    {
      "cell_type": "markdown",
      "source": [
        "<div class=\"alert alert-block alert-success\">\n",
        "<b>Exercise 4 </b><p>\n",
        "Use the following code cell to create a dictionary containing the keys: title, author and an example for a book you like.\n",
        "<p>\n",
        "\n",
        "<p>\n",
        " -End of exercise-\n",
        "    </div>"
      ],
      "metadata": {
        "id": "twORF7ejiMO-"
      }
    },
    {
      "cell_type": "code",
      "source": [
        "## Remember dict = {key: value}\n",
        "## Uncomment the following, create your dictionary and run\n",
        "\n",
        "# dict_book = {...}\n",
        "# print(dict_book[\"title\"])  # Print the title of the book\n",
        "# print(dict_book[\"author\"])  # Print the Author of the book\n",
        "# print(...)  # Print the entire dictionary"
      ],
      "metadata": {
        "id": "vCDaOWNUiNW0"
      },
      "execution_count": 17,
      "outputs": []
    },
    {
      "cell_type": "markdown",
      "source": [
        "## Part 3 Functions\n",
        "Functions are reusable blocks of code that perform a specific task. Functions help in organizing code, making it more readable and reusable. You can define a function using the def keyword.\n",
        "The triple \"\"\" allow you to write documentation for the function. It is crucial to remember to comment your functions so that several months from now you will remember what each function does. This will also greatly help other people trying to read your code."
      ],
      "metadata": {
        "id": "PRTztZFGiOr-"
      }
    },
    {
      "cell_type": "code",
      "source": [
        "# Define a function to greet a person\n",
        "\n",
        "def greet(name):\n",
        "    \"\"\"\n",
        "    Generates a greeting message for the specified name.\n",
        "\n",
        "    Parameters:\n",
        "        name (str): The name of the person to greet.\n",
        "\n",
        "    Returns:\n",
        "        str: A greeting message in the format \"Hello, {name}!\".\n",
        "    \"\"\"\n",
        "    return f\"Hello, {name}!\"\n",
        "\n",
        "# Call the function\n",
        "print(greet(\"Hans\"))  # Output: Hello, Alice!"
      ],
      "metadata": {
        "colab": {
          "base_uri": "https://localhost:8080/"
        },
        "id": "xK7h7gNTiP36",
        "outputId": "2fabf8b2-dd2b-4b01-b3bb-df4230cc7595"
      },
      "execution_count": 18,
      "outputs": [
        {
          "output_type": "stream",
          "name": "stdout",
          "text": [
            "Hello, Hans!\n"
          ]
        }
      ]
    },
    {
      "cell_type": "markdown",
      "source": [
        "If you don't know what a function does, ask for help! This works also for functions of packages (e.g., Numpy, see later)"
      ],
      "metadata": {
        "id": "N69f2BFziRWH"
      }
    },
    {
      "cell_type": "code",
      "source": [
        "help(greet)"
      ],
      "metadata": {
        "colab": {
          "base_uri": "https://localhost:8080/"
        },
        "id": "2zgh46XAiSXF",
        "outputId": "1cd44232-a3e8-4570-975d-c3fe8fe3a501"
      },
      "execution_count": 19,
      "outputs": [
        {
          "output_type": "stream",
          "name": "stdout",
          "text": [
            "Help on function greet in module __main__:\n",
            "\n",
            "greet(name)\n",
            "    Generates a greeting message for the specified name.\n",
            "    \n",
            "    Parameters:\n",
            "        name (str): The name of the person to greet.\n",
            "    \n",
            "    Returns:\n",
            "        str: A greeting message in the format \"Hello, {name}!\".\n",
            "\n"
          ]
        }
      ]
    },
    {
      "cell_type": "markdown",
      "source": [
        "<div class=\"alert alert-block alert-success\">\n",
        "<b>Exercise 5 </b><p>\n",
        "Write a function called \"square\" that simply squares a number (square in Python is: n**power, i.e., 9**2). This function should take as input a number, n, and return its squared value.\n",
        "<p>\n",
        "\n",
        "<p>\n",
        " -End of exercise-\n",
        "    </div>"
      ],
      "metadata": {
        "id": "rymi-PuaiTqG"
      }
    },
    {
      "cell_type": "code",
      "source": [
        "# Your code here. Uncomment.\n",
        "\n",
        "#...\n",
        "\n",
        "#result = square(5)\n",
        "#print(result)  # Output: 25\n"
      ],
      "metadata": {
        "id": "CvIhNjHqiU-Z"
      },
      "execution_count": 20,
      "outputs": []
    },
    {
      "cell_type": "markdown",
      "source": [
        "<div class=\"alert alert-block alert-success\">\n",
        "<b>Exercise Bonus2 </b><p>\n",
        "Modify the previous function in order to calculate the nth power of a number. Hint, the second function should accept 2 arguments, n and power.\n",
        "<p>\n",
        "\n",
        "<p>\n",
        " -End of exercise-\n",
        "    </div>"
      ],
      "metadata": {
        "id": "9HUbHV1giWdt"
      }
    },
    {
      "cell_type": "markdown",
      "source": [
        "## Part 4: Using Python Packages\n",
        "In Python, a package is a way to organize and distribute a collection of modules. A module is simply a file containing Python code that defines functions, classes, or variables, which can be reused in different programs. A package allows you to bundle multiple modules together, making it easier to manage and use code libraries.\n",
        "\n",
        "Think of a package as a toolbox, and each module within it as a specific tool. For example, if you have a toolbox for analyzing brain imaging data, one module might contain functions for reading data files, another for processing the data, and another for visualizing the results.\n",
        "To use a package, you should first install it (here everything is already pre-installed, so you don't have to do it).\n",
        "Then, you simply import the package using the package name. It is useful to give short names to packages so that you have to write less code.\n",
        "\n",
        "Common widely used names are: numpy → np; pandas → pd; matplotlib.pyplot → plt; (see later)"
      ],
      "metadata": {
        "id": "V-BcbqKniYuw"
      }
    },
    {
      "cell_type": "code",
      "source": [
        "import numpy as np"
      ],
      "metadata": {
        "id": "pF9-k35uicE1"
      },
      "execution_count": 21,
      "outputs": []
    },
    {
      "cell_type": "markdown",
      "source": [
        "## Part 5: Introduction to NumPy\n",
        "NumPy is a powerful library for numerical computing in Python. After having imported numpy as np, you can start calling its methods. For example Numpy allows you to create vectors and store numerical values in them. Vectorization dramatically increases the speed of many math operations!"
      ],
      "metadata": {
        "id": "O1oqfSe0igP7"
      }
    },
    {
      "cell_type": "code",
      "source": [
        "# Creating a NumPy array\n",
        "array = np.array([1, 2, 3, 4, 5])\n",
        "print(array)"
      ],
      "metadata": {
        "colab": {
          "base_uri": "https://localhost:8080/"
        },
        "id": "AAzX0BtvihlK",
        "outputId": "c7400833-9d94-4853-d0a6-4b6354ce0791"
      },
      "execution_count": 22,
      "outputs": [
        {
          "output_type": "stream",
          "name": "stdout",
          "text": [
            "[1 2 3 4 5]\n"
          ]
        }
      ]
    },
    {
      "cell_type": "code",
      "source": [
        "# Performing operations\n",
        "print(array + 10)\n",
        "print(array * 2)"
      ],
      "metadata": {
        "colab": {
          "base_uri": "https://localhost:8080/"
        },
        "id": "KenY36P0iiln",
        "outputId": "a3eb0738-5168-480b-8455-67d1043e2afd"
      },
      "execution_count": 23,
      "outputs": [
        {
          "output_type": "stream",
          "name": "stdout",
          "text": [
            "[11 12 13 14 15]\n",
            "[ 2  4  6  8 10]\n"
          ]
        }
      ]
    },
    {
      "cell_type": "markdown",
      "source": [
        "You can perform many interesting operations with numpy!"
      ],
      "metadata": {
        "id": "nfyMknVIij5T"
      }
    },
    {
      "cell_type": "code",
      "source": [
        "# Sum of the elements of an array\n",
        "s = array.sum()\n",
        "print(f\"The sum of all elements of the array is: {s}\")"
      ],
      "metadata": {
        "colab": {
          "base_uri": "https://localhost:8080/"
        },
        "id": "_8BU_mnDik4k",
        "outputId": "67162a59-1158-4efd-ad29-469f03de3baf"
      },
      "execution_count": 24,
      "outputs": [
        {
          "output_type": "stream",
          "name": "stdout",
          "text": [
            "The sum of all elements of the array is: 15\n"
          ]
        }
      ]
    },
    {
      "cell_type": "code",
      "source": [
        "# Mean of the elements of an array\n",
        "m = array.mean()\n",
        "print(f\"The mean is: {m}\")"
      ],
      "metadata": {
        "colab": {
          "base_uri": "https://localhost:8080/"
        },
        "id": "0UwEMms3il2p",
        "outputId": "ac74c789-d725-49f2-f2bb-f1ddf34d8747"
      },
      "execution_count": 25,
      "outputs": [
        {
          "output_type": "stream",
          "name": "stdout",
          "text": [
            "The mean is: 3.0\n"
          ]
        }
      ]
    },
    {
      "cell_type": "code",
      "source": [
        "# Std. deviation of the elements of an array\n",
        "std = array.std()\n",
        "print(f\"The std. dev. is: {std:.2f}\")"
      ],
      "metadata": {
        "colab": {
          "base_uri": "https://localhost:8080/"
        },
        "id": "nkPwDeKgim6m",
        "outputId": "e2458bd0-b44b-4423-d4e0-603d054e8df3"
      },
      "execution_count": 26,
      "outputs": [
        {
          "output_type": "stream",
          "name": "stdout",
          "text": [
            "The std. dev. is: 1.41\n"
          ]
        }
      ]
    },
    {
      "cell_type": "markdown",
      "source": [
        "<div class=\"alert alert-block alert-success\">\n",
        "<b>Exercise 6 </b><p>\n",
        "Create an array containing the values [1, 5, 7] and take its mean using Numpy.\n",
        "<p>\n",
        "\n",
        "<p>\n",
        " -End of exercise-\n",
        "    </div>"
      ],
      "metadata": {
        "id": "J9EvEENFin_X"
      }
    },
    {
      "cell_type": "code",
      "source": [
        "# Your code here ..."
      ],
      "metadata": {
        "id": "fGTSE-gJipO4"
      },
      "execution_count": 27,
      "outputs": []
    },
    {
      "cell_type": "markdown",
      "source": [
        "## Part 6: Introduction to Pandas\n",
        "\n",
        "Pandas is a library for data manipulation and analysis. You can consider it somewhat similar to working with an Excel spreadsheet. You can use Pandas to analyze Excel spreadsheets and all types of tabular data."
      ],
      "metadata": {
        "id": "cCHZUff1iqeF"
      }
    },
    {
      "cell_type": "code",
      "source": [
        "import pandas as pd\n",
        "\n",
        "# Creating a DataFrame\n",
        "data = {\n",
        "    \"Name\": [\"Alice\", \"Bob\", \"Charlie\"],\n",
        "    \"Age\": [25, 30, 35],\n",
        "    \"Score\": [85, 90, 95]\n",
        "}\n",
        "df = pd.DataFrame(data)\n",
        "df"
      ],
      "metadata": {
        "colab": {
          "base_uri": "https://localhost:8080/",
          "height": 160
        },
        "id": "kCL4Zj7viraR",
        "outputId": "bdf3d93c-621c-419d-c807-b87189e30e69"
      },
      "execution_count": 28,
      "outputs": [
        {
          "output_type": "execute_result",
          "data": {
            "text/plain": [
              "      Name  Age  Score\n",
              "0    Alice   25     85\n",
              "1      Bob   30     90\n",
              "2  Charlie   35     95"
            ],
            "text/html": [
              "\n",
              "  <div id=\"df-5a4214ff-88e9-44ea-8a05-f3b673035777\" class=\"colab-df-container\">\n",
              "    <div>\n",
              "<style scoped>\n",
              "    .dataframe tbody tr th:only-of-type {\n",
              "        vertical-align: middle;\n",
              "    }\n",
              "\n",
              "    .dataframe tbody tr th {\n",
              "        vertical-align: top;\n",
              "    }\n",
              "\n",
              "    .dataframe thead th {\n",
              "        text-align: right;\n",
              "    }\n",
              "</style>\n",
              "<table border=\"1\" class=\"dataframe\">\n",
              "  <thead>\n",
              "    <tr style=\"text-align: right;\">\n",
              "      <th></th>\n",
              "      <th>Name</th>\n",
              "      <th>Age</th>\n",
              "      <th>Score</th>\n",
              "    </tr>\n",
              "  </thead>\n",
              "  <tbody>\n",
              "    <tr>\n",
              "      <th>0</th>\n",
              "      <td>Alice</td>\n",
              "      <td>25</td>\n",
              "      <td>85</td>\n",
              "    </tr>\n",
              "    <tr>\n",
              "      <th>1</th>\n",
              "      <td>Bob</td>\n",
              "      <td>30</td>\n",
              "      <td>90</td>\n",
              "    </tr>\n",
              "    <tr>\n",
              "      <th>2</th>\n",
              "      <td>Charlie</td>\n",
              "      <td>35</td>\n",
              "      <td>95</td>\n",
              "    </tr>\n",
              "  </tbody>\n",
              "</table>\n",
              "</div>\n",
              "    <div class=\"colab-df-buttons\">\n",
              "\n",
              "  <div class=\"colab-df-container\">\n",
              "    <button class=\"colab-df-convert\" onclick=\"convertToInteractive('df-5a4214ff-88e9-44ea-8a05-f3b673035777')\"\n",
              "            title=\"Convert this dataframe to an interactive table.\"\n",
              "            style=\"display:none;\">\n",
              "\n",
              "  <svg xmlns=\"http://www.w3.org/2000/svg\" height=\"24px\" viewBox=\"0 -960 960 960\">\n",
              "    <path d=\"M120-120v-720h720v720H120Zm60-500h600v-160H180v160Zm220 220h160v-160H400v160Zm0 220h160v-160H400v160ZM180-400h160v-160H180v160Zm440 0h160v-160H620v160ZM180-180h160v-160H180v160Zm440 0h160v-160H620v160Z\"/>\n",
              "  </svg>\n",
              "    </button>\n",
              "\n",
              "  <style>\n",
              "    .colab-df-container {\n",
              "      display:flex;\n",
              "      gap: 12px;\n",
              "    }\n",
              "\n",
              "    .colab-df-convert {\n",
              "      background-color: #E8F0FE;\n",
              "      border: none;\n",
              "      border-radius: 50%;\n",
              "      cursor: pointer;\n",
              "      display: none;\n",
              "      fill: #1967D2;\n",
              "      height: 32px;\n",
              "      padding: 0 0 0 0;\n",
              "      width: 32px;\n",
              "    }\n",
              "\n",
              "    .colab-df-convert:hover {\n",
              "      background-color: #E2EBFA;\n",
              "      box-shadow: 0px 1px 2px rgba(60, 64, 67, 0.3), 0px 1px 3px 1px rgba(60, 64, 67, 0.15);\n",
              "      fill: #174EA6;\n",
              "    }\n",
              "\n",
              "    .colab-df-buttons div {\n",
              "      margin-bottom: 4px;\n",
              "    }\n",
              "\n",
              "    [theme=dark] .colab-df-convert {\n",
              "      background-color: #3B4455;\n",
              "      fill: #D2E3FC;\n",
              "    }\n",
              "\n",
              "    [theme=dark] .colab-df-convert:hover {\n",
              "      background-color: #434B5C;\n",
              "      box-shadow: 0px 1px 3px 1px rgba(0, 0, 0, 0.15);\n",
              "      filter: drop-shadow(0px 1px 2px rgba(0, 0, 0, 0.3));\n",
              "      fill: #FFFFFF;\n",
              "    }\n",
              "  </style>\n",
              "\n",
              "    <script>\n",
              "      const buttonEl =\n",
              "        document.querySelector('#df-5a4214ff-88e9-44ea-8a05-f3b673035777 button.colab-df-convert');\n",
              "      buttonEl.style.display =\n",
              "        google.colab.kernel.accessAllowed ? 'block' : 'none';\n",
              "\n",
              "      async function convertToInteractive(key) {\n",
              "        const element = document.querySelector('#df-5a4214ff-88e9-44ea-8a05-f3b673035777');\n",
              "        const dataTable =\n",
              "          await google.colab.kernel.invokeFunction('convertToInteractive',\n",
              "                                                    [key], {});\n",
              "        if (!dataTable) return;\n",
              "\n",
              "        const docLinkHtml = 'Like what you see? Visit the ' +\n",
              "          '<a target=\"_blank\" href=https://colab.research.google.com/notebooks/data_table.ipynb>data table notebook</a>'\n",
              "          + ' to learn more about interactive tables.';\n",
              "        element.innerHTML = '';\n",
              "        dataTable['output_type'] = 'display_data';\n",
              "        await google.colab.output.renderOutput(dataTable, element);\n",
              "        const docLink = document.createElement('div');\n",
              "        docLink.innerHTML = docLinkHtml;\n",
              "        element.appendChild(docLink);\n",
              "      }\n",
              "    </script>\n",
              "  </div>\n",
              "\n",
              "\n",
              "<div id=\"df-60e532ba-5423-4876-a42d-9622219c1730\">\n",
              "  <button class=\"colab-df-quickchart\" onclick=\"quickchart('df-60e532ba-5423-4876-a42d-9622219c1730')\"\n",
              "            title=\"Suggest charts\"\n",
              "            style=\"display:none;\">\n",
              "\n",
              "<svg xmlns=\"http://www.w3.org/2000/svg\" height=\"24px\"viewBox=\"0 0 24 24\"\n",
              "     width=\"24px\">\n",
              "    <g>\n",
              "        <path d=\"M19 3H5c-1.1 0-2 .9-2 2v14c0 1.1.9 2 2 2h14c1.1 0 2-.9 2-2V5c0-1.1-.9-2-2-2zM9 17H7v-7h2v7zm4 0h-2V7h2v10zm4 0h-2v-4h2v4z\"/>\n",
              "    </g>\n",
              "</svg>\n",
              "  </button>\n",
              "\n",
              "<style>\n",
              "  .colab-df-quickchart {\n",
              "      --bg-color: #E8F0FE;\n",
              "      --fill-color: #1967D2;\n",
              "      --hover-bg-color: #E2EBFA;\n",
              "      --hover-fill-color: #174EA6;\n",
              "      --disabled-fill-color: #AAA;\n",
              "      --disabled-bg-color: #DDD;\n",
              "  }\n",
              "\n",
              "  [theme=dark] .colab-df-quickchart {\n",
              "      --bg-color: #3B4455;\n",
              "      --fill-color: #D2E3FC;\n",
              "      --hover-bg-color: #434B5C;\n",
              "      --hover-fill-color: #FFFFFF;\n",
              "      --disabled-bg-color: #3B4455;\n",
              "      --disabled-fill-color: #666;\n",
              "  }\n",
              "\n",
              "  .colab-df-quickchart {\n",
              "    background-color: var(--bg-color);\n",
              "    border: none;\n",
              "    border-radius: 50%;\n",
              "    cursor: pointer;\n",
              "    display: none;\n",
              "    fill: var(--fill-color);\n",
              "    height: 32px;\n",
              "    padding: 0;\n",
              "    width: 32px;\n",
              "  }\n",
              "\n",
              "  .colab-df-quickchart:hover {\n",
              "    background-color: var(--hover-bg-color);\n",
              "    box-shadow: 0 1px 2px rgba(60, 64, 67, 0.3), 0 1px 3px 1px rgba(60, 64, 67, 0.15);\n",
              "    fill: var(--button-hover-fill-color);\n",
              "  }\n",
              "\n",
              "  .colab-df-quickchart-complete:disabled,\n",
              "  .colab-df-quickchart-complete:disabled:hover {\n",
              "    background-color: var(--disabled-bg-color);\n",
              "    fill: var(--disabled-fill-color);\n",
              "    box-shadow: none;\n",
              "  }\n",
              "\n",
              "  .colab-df-spinner {\n",
              "    border: 2px solid var(--fill-color);\n",
              "    border-color: transparent;\n",
              "    border-bottom-color: var(--fill-color);\n",
              "    animation:\n",
              "      spin 1s steps(1) infinite;\n",
              "  }\n",
              "\n",
              "  @keyframes spin {\n",
              "    0% {\n",
              "      border-color: transparent;\n",
              "      border-bottom-color: var(--fill-color);\n",
              "      border-left-color: var(--fill-color);\n",
              "    }\n",
              "    20% {\n",
              "      border-color: transparent;\n",
              "      border-left-color: var(--fill-color);\n",
              "      border-top-color: var(--fill-color);\n",
              "    }\n",
              "    30% {\n",
              "      border-color: transparent;\n",
              "      border-left-color: var(--fill-color);\n",
              "      border-top-color: var(--fill-color);\n",
              "      border-right-color: var(--fill-color);\n",
              "    }\n",
              "    40% {\n",
              "      border-color: transparent;\n",
              "      border-right-color: var(--fill-color);\n",
              "      border-top-color: var(--fill-color);\n",
              "    }\n",
              "    60% {\n",
              "      border-color: transparent;\n",
              "      border-right-color: var(--fill-color);\n",
              "    }\n",
              "    80% {\n",
              "      border-color: transparent;\n",
              "      border-right-color: var(--fill-color);\n",
              "      border-bottom-color: var(--fill-color);\n",
              "    }\n",
              "    90% {\n",
              "      border-color: transparent;\n",
              "      border-bottom-color: var(--fill-color);\n",
              "    }\n",
              "  }\n",
              "</style>\n",
              "\n",
              "  <script>\n",
              "    async function quickchart(key) {\n",
              "      const quickchartButtonEl =\n",
              "        document.querySelector('#' + key + ' button');\n",
              "      quickchartButtonEl.disabled = true;  // To prevent multiple clicks.\n",
              "      quickchartButtonEl.classList.add('colab-df-spinner');\n",
              "      try {\n",
              "        const charts = await google.colab.kernel.invokeFunction(\n",
              "            'suggestCharts', [key], {});\n",
              "      } catch (error) {\n",
              "        console.error('Error during call to suggestCharts:', error);\n",
              "      }\n",
              "      quickchartButtonEl.classList.remove('colab-df-spinner');\n",
              "      quickchartButtonEl.classList.add('colab-df-quickchart-complete');\n",
              "    }\n",
              "    (() => {\n",
              "      let quickchartButtonEl =\n",
              "        document.querySelector('#df-60e532ba-5423-4876-a42d-9622219c1730 button');\n",
              "      quickchartButtonEl.style.display =\n",
              "        google.colab.kernel.accessAllowed ? 'block' : 'none';\n",
              "    })();\n",
              "  </script>\n",
              "</div>\n",
              "    </div>\n",
              "  </div>\n"
            ],
            "application/vnd.google.colaboratory.intrinsic+json": {
              "type": "dataframe",
              "variable_name": "df",
              "summary": "{\n  \"name\": \"df\",\n  \"rows\": 3,\n  \"fields\": [\n    {\n      \"column\": \"Name\",\n      \"properties\": {\n        \"dtype\": \"string\",\n        \"num_unique_values\": 3,\n        \"samples\": [\n          \"Alice\",\n          \"Bob\",\n          \"Charlie\"\n        ],\n        \"semantic_type\": \"\",\n        \"description\": \"\"\n      }\n    },\n    {\n      \"column\": \"Age\",\n      \"properties\": {\n        \"dtype\": \"number\",\n        \"std\": 5,\n        \"min\": 25,\n        \"max\": 35,\n        \"num_unique_values\": 3,\n        \"samples\": [\n          25,\n          30,\n          35\n        ],\n        \"semantic_type\": \"\",\n        \"description\": \"\"\n      }\n    },\n    {\n      \"column\": \"Score\",\n      \"properties\": {\n        \"dtype\": \"number\",\n        \"std\": 5,\n        \"min\": 85,\n        \"max\": 95,\n        \"num_unique_values\": 3,\n        \"samples\": [\n          85,\n          90,\n          95\n        ],\n        \"semantic_type\": \"\",\n        \"description\": \"\"\n      }\n    }\n  ]\n}"
            }
          },
          "metadata": {},
          "execution_count": 28
        }
      ]
    },
    {
      "cell_type": "code",
      "source": [
        "# Accessing data\n",
        "print(df[\"Name\"])  # Accessing a column"
      ],
      "metadata": {
        "colab": {
          "base_uri": "https://localhost:8080/"
        },
        "id": "ap3MBhy5is3X",
        "outputId": "48ecb4a1-734d-4028-ee13-62a2c96df316"
      },
      "execution_count": 29,
      "outputs": [
        {
          "output_type": "stream",
          "name": "stdout",
          "text": [
            "0      Alice\n",
            "1        Bob\n",
            "2    Charlie\n",
            "Name: Name, dtype: object\n"
          ]
        }
      ]
    },
    {
      "cell_type": "markdown",
      "source": [
        "Pandas has several handy features allowing you to calculate interesting statistics with very few lines of code. One such example is df.describe()"
      ],
      "metadata": {
        "id": "5U7a3EhXiuTB"
      }
    },
    {
      "cell_type": "code",
      "source": [
        "df.describe()"
      ],
      "metadata": {
        "colab": {
          "base_uri": "https://localhost:8080/",
          "height": 300
        },
        "id": "eJjbHjh4ivbU",
        "outputId": "c59890bf-ae76-484c-ea38-6b9808b42784"
      },
      "execution_count": 30,
      "outputs": [
        {
          "output_type": "execute_result",
          "data": {
            "text/plain": [
              "        Age  Score\n",
              "count   3.0    3.0\n",
              "mean   30.0   90.0\n",
              "std     5.0    5.0\n",
              "min    25.0   85.0\n",
              "25%    27.5   87.5\n",
              "50%    30.0   90.0\n",
              "75%    32.5   92.5\n",
              "max    35.0   95.0"
            ],
            "text/html": [
              "\n",
              "  <div id=\"df-19fc2c9a-e3af-4898-aaa9-89b962385552\" class=\"colab-df-container\">\n",
              "    <div>\n",
              "<style scoped>\n",
              "    .dataframe tbody tr th:only-of-type {\n",
              "        vertical-align: middle;\n",
              "    }\n",
              "\n",
              "    .dataframe tbody tr th {\n",
              "        vertical-align: top;\n",
              "    }\n",
              "\n",
              "    .dataframe thead th {\n",
              "        text-align: right;\n",
              "    }\n",
              "</style>\n",
              "<table border=\"1\" class=\"dataframe\">\n",
              "  <thead>\n",
              "    <tr style=\"text-align: right;\">\n",
              "      <th></th>\n",
              "      <th>Age</th>\n",
              "      <th>Score</th>\n",
              "    </tr>\n",
              "  </thead>\n",
              "  <tbody>\n",
              "    <tr>\n",
              "      <th>count</th>\n",
              "      <td>3.0</td>\n",
              "      <td>3.0</td>\n",
              "    </tr>\n",
              "    <tr>\n",
              "      <th>mean</th>\n",
              "      <td>30.0</td>\n",
              "      <td>90.0</td>\n",
              "    </tr>\n",
              "    <tr>\n",
              "      <th>std</th>\n",
              "      <td>5.0</td>\n",
              "      <td>5.0</td>\n",
              "    </tr>\n",
              "    <tr>\n",
              "      <th>min</th>\n",
              "      <td>25.0</td>\n",
              "      <td>85.0</td>\n",
              "    </tr>\n",
              "    <tr>\n",
              "      <th>25%</th>\n",
              "      <td>27.5</td>\n",
              "      <td>87.5</td>\n",
              "    </tr>\n",
              "    <tr>\n",
              "      <th>50%</th>\n",
              "      <td>30.0</td>\n",
              "      <td>90.0</td>\n",
              "    </tr>\n",
              "    <tr>\n",
              "      <th>75%</th>\n",
              "      <td>32.5</td>\n",
              "      <td>92.5</td>\n",
              "    </tr>\n",
              "    <tr>\n",
              "      <th>max</th>\n",
              "      <td>35.0</td>\n",
              "      <td>95.0</td>\n",
              "    </tr>\n",
              "  </tbody>\n",
              "</table>\n",
              "</div>\n",
              "    <div class=\"colab-df-buttons\">\n",
              "\n",
              "  <div class=\"colab-df-container\">\n",
              "    <button class=\"colab-df-convert\" onclick=\"convertToInteractive('df-19fc2c9a-e3af-4898-aaa9-89b962385552')\"\n",
              "            title=\"Convert this dataframe to an interactive table.\"\n",
              "            style=\"display:none;\">\n",
              "\n",
              "  <svg xmlns=\"http://www.w3.org/2000/svg\" height=\"24px\" viewBox=\"0 -960 960 960\">\n",
              "    <path d=\"M120-120v-720h720v720H120Zm60-500h600v-160H180v160Zm220 220h160v-160H400v160Zm0 220h160v-160H400v160ZM180-400h160v-160H180v160Zm440 0h160v-160H620v160ZM180-180h160v-160H180v160Zm440 0h160v-160H620v160Z\"/>\n",
              "  </svg>\n",
              "    </button>\n",
              "\n",
              "  <style>\n",
              "    .colab-df-container {\n",
              "      display:flex;\n",
              "      gap: 12px;\n",
              "    }\n",
              "\n",
              "    .colab-df-convert {\n",
              "      background-color: #E8F0FE;\n",
              "      border: none;\n",
              "      border-radius: 50%;\n",
              "      cursor: pointer;\n",
              "      display: none;\n",
              "      fill: #1967D2;\n",
              "      height: 32px;\n",
              "      padding: 0 0 0 0;\n",
              "      width: 32px;\n",
              "    }\n",
              "\n",
              "    .colab-df-convert:hover {\n",
              "      background-color: #E2EBFA;\n",
              "      box-shadow: 0px 1px 2px rgba(60, 64, 67, 0.3), 0px 1px 3px 1px rgba(60, 64, 67, 0.15);\n",
              "      fill: #174EA6;\n",
              "    }\n",
              "\n",
              "    .colab-df-buttons div {\n",
              "      margin-bottom: 4px;\n",
              "    }\n",
              "\n",
              "    [theme=dark] .colab-df-convert {\n",
              "      background-color: #3B4455;\n",
              "      fill: #D2E3FC;\n",
              "    }\n",
              "\n",
              "    [theme=dark] .colab-df-convert:hover {\n",
              "      background-color: #434B5C;\n",
              "      box-shadow: 0px 1px 3px 1px rgba(0, 0, 0, 0.15);\n",
              "      filter: drop-shadow(0px 1px 2px rgba(0, 0, 0, 0.3));\n",
              "      fill: #FFFFFF;\n",
              "    }\n",
              "  </style>\n",
              "\n",
              "    <script>\n",
              "      const buttonEl =\n",
              "        document.querySelector('#df-19fc2c9a-e3af-4898-aaa9-89b962385552 button.colab-df-convert');\n",
              "      buttonEl.style.display =\n",
              "        google.colab.kernel.accessAllowed ? 'block' : 'none';\n",
              "\n",
              "      async function convertToInteractive(key) {\n",
              "        const element = document.querySelector('#df-19fc2c9a-e3af-4898-aaa9-89b962385552');\n",
              "        const dataTable =\n",
              "          await google.colab.kernel.invokeFunction('convertToInteractive',\n",
              "                                                    [key], {});\n",
              "        if (!dataTable) return;\n",
              "\n",
              "        const docLinkHtml = 'Like what you see? Visit the ' +\n",
              "          '<a target=\"_blank\" href=https://colab.research.google.com/notebooks/data_table.ipynb>data table notebook</a>'\n",
              "          + ' to learn more about interactive tables.';\n",
              "        element.innerHTML = '';\n",
              "        dataTable['output_type'] = 'display_data';\n",
              "        await google.colab.output.renderOutput(dataTable, element);\n",
              "        const docLink = document.createElement('div');\n",
              "        docLink.innerHTML = docLinkHtml;\n",
              "        element.appendChild(docLink);\n",
              "      }\n",
              "    </script>\n",
              "  </div>\n",
              "\n",
              "\n",
              "<div id=\"df-c0cfd18b-65c1-4bc1-adad-7fbac217d643\">\n",
              "  <button class=\"colab-df-quickchart\" onclick=\"quickchart('df-c0cfd18b-65c1-4bc1-adad-7fbac217d643')\"\n",
              "            title=\"Suggest charts\"\n",
              "            style=\"display:none;\">\n",
              "\n",
              "<svg xmlns=\"http://www.w3.org/2000/svg\" height=\"24px\"viewBox=\"0 0 24 24\"\n",
              "     width=\"24px\">\n",
              "    <g>\n",
              "        <path d=\"M19 3H5c-1.1 0-2 .9-2 2v14c0 1.1.9 2 2 2h14c1.1 0 2-.9 2-2V5c0-1.1-.9-2-2-2zM9 17H7v-7h2v7zm4 0h-2V7h2v10zm4 0h-2v-4h2v4z\"/>\n",
              "    </g>\n",
              "</svg>\n",
              "  </button>\n",
              "\n",
              "<style>\n",
              "  .colab-df-quickchart {\n",
              "      --bg-color: #E8F0FE;\n",
              "      --fill-color: #1967D2;\n",
              "      --hover-bg-color: #E2EBFA;\n",
              "      --hover-fill-color: #174EA6;\n",
              "      --disabled-fill-color: #AAA;\n",
              "      --disabled-bg-color: #DDD;\n",
              "  }\n",
              "\n",
              "  [theme=dark] .colab-df-quickchart {\n",
              "      --bg-color: #3B4455;\n",
              "      --fill-color: #D2E3FC;\n",
              "      --hover-bg-color: #434B5C;\n",
              "      --hover-fill-color: #FFFFFF;\n",
              "      --disabled-bg-color: #3B4455;\n",
              "      --disabled-fill-color: #666;\n",
              "  }\n",
              "\n",
              "  .colab-df-quickchart {\n",
              "    background-color: var(--bg-color);\n",
              "    border: none;\n",
              "    border-radius: 50%;\n",
              "    cursor: pointer;\n",
              "    display: none;\n",
              "    fill: var(--fill-color);\n",
              "    height: 32px;\n",
              "    padding: 0;\n",
              "    width: 32px;\n",
              "  }\n",
              "\n",
              "  .colab-df-quickchart:hover {\n",
              "    background-color: var(--hover-bg-color);\n",
              "    box-shadow: 0 1px 2px rgba(60, 64, 67, 0.3), 0 1px 3px 1px rgba(60, 64, 67, 0.15);\n",
              "    fill: var(--button-hover-fill-color);\n",
              "  }\n",
              "\n",
              "  .colab-df-quickchart-complete:disabled,\n",
              "  .colab-df-quickchart-complete:disabled:hover {\n",
              "    background-color: var(--disabled-bg-color);\n",
              "    fill: var(--disabled-fill-color);\n",
              "    box-shadow: none;\n",
              "  }\n",
              "\n",
              "  .colab-df-spinner {\n",
              "    border: 2px solid var(--fill-color);\n",
              "    border-color: transparent;\n",
              "    border-bottom-color: var(--fill-color);\n",
              "    animation:\n",
              "      spin 1s steps(1) infinite;\n",
              "  }\n",
              "\n",
              "  @keyframes spin {\n",
              "    0% {\n",
              "      border-color: transparent;\n",
              "      border-bottom-color: var(--fill-color);\n",
              "      border-left-color: var(--fill-color);\n",
              "    }\n",
              "    20% {\n",
              "      border-color: transparent;\n",
              "      border-left-color: var(--fill-color);\n",
              "      border-top-color: var(--fill-color);\n",
              "    }\n",
              "    30% {\n",
              "      border-color: transparent;\n",
              "      border-left-color: var(--fill-color);\n",
              "      border-top-color: var(--fill-color);\n",
              "      border-right-color: var(--fill-color);\n",
              "    }\n",
              "    40% {\n",
              "      border-color: transparent;\n",
              "      border-right-color: var(--fill-color);\n",
              "      border-top-color: var(--fill-color);\n",
              "    }\n",
              "    60% {\n",
              "      border-color: transparent;\n",
              "      border-right-color: var(--fill-color);\n",
              "    }\n",
              "    80% {\n",
              "      border-color: transparent;\n",
              "      border-right-color: var(--fill-color);\n",
              "      border-bottom-color: var(--fill-color);\n",
              "    }\n",
              "    90% {\n",
              "      border-color: transparent;\n",
              "      border-bottom-color: var(--fill-color);\n",
              "    }\n",
              "  }\n",
              "</style>\n",
              "\n",
              "  <script>\n",
              "    async function quickchart(key) {\n",
              "      const quickchartButtonEl =\n",
              "        document.querySelector('#' + key + ' button');\n",
              "      quickchartButtonEl.disabled = true;  // To prevent multiple clicks.\n",
              "      quickchartButtonEl.classList.add('colab-df-spinner');\n",
              "      try {\n",
              "        const charts = await google.colab.kernel.invokeFunction(\n",
              "            'suggestCharts', [key], {});\n",
              "      } catch (error) {\n",
              "        console.error('Error during call to suggestCharts:', error);\n",
              "      }\n",
              "      quickchartButtonEl.classList.remove('colab-df-spinner');\n",
              "      quickchartButtonEl.classList.add('colab-df-quickchart-complete');\n",
              "    }\n",
              "    (() => {\n",
              "      let quickchartButtonEl =\n",
              "        document.querySelector('#df-c0cfd18b-65c1-4bc1-adad-7fbac217d643 button');\n",
              "      quickchartButtonEl.style.display =\n",
              "        google.colab.kernel.accessAllowed ? 'block' : 'none';\n",
              "    })();\n",
              "  </script>\n",
              "</div>\n",
              "    </div>\n",
              "  </div>\n"
            ],
            "application/vnd.google.colaboratory.intrinsic+json": {
              "type": "dataframe",
              "summary": "{\n  \"name\": \"df\",\n  \"rows\": 8,\n  \"fields\": [\n    {\n      \"column\": \"Age\",\n      \"properties\": {\n        \"dtype\": \"number\",\n        \"std\": 12.412551251512664,\n        \"min\": 3.0,\n        \"max\": 35.0,\n        \"num_unique_values\": 7,\n        \"samples\": [\n          3.0,\n          30.0,\n          32.5\n        ],\n        \"semantic_type\": \"\",\n        \"description\": \"\"\n      }\n    },\n    {\n      \"column\": \"Score\",\n      \"properties\": {\n        \"dtype\": \"number\",\n        \"std\": 39.92582408130643,\n        \"min\": 3.0,\n        \"max\": 95.0,\n        \"num_unique_values\": 7,\n        \"samples\": [\n          3.0,\n          90.0,\n          92.5\n        ],\n        \"semantic_type\": \"\",\n        \"description\": \"\"\n      }\n    }\n  ]\n}"
            }
          },
          "metadata": {},
          "execution_count": 30
        }
      ]
    },
    {
      "cell_type": "markdown",
      "source": [
        "<div class=\"alert alert-block alert-success\">\n",
        "<b>Exercise 7 </b><p>\n",
        "Try to think about a useful example of how you would use Pandas to analyze neuroimaging data. What would be in the rows? What in the columns?\n",
        "<p>\n",
        "\n",
        "<p>\n",
        " -End of exercise-\n",
        "    </div>"
      ],
      "metadata": {
        "id": "7jhZCppIiwhd"
      }
    },
    {
      "cell_type": "markdown",
      "source": [
        "## Part 7: Introduction to Matplotlib\n",
        "\n",
        "Matplotlib is a plotting library for creating data visualizations. We will use it to plot the results of our simulations.\n",
        "You can plot all kinds of visualizations types, from lines to histograms to barcharts ... to functional connectivity matrices."
      ],
      "metadata": {
        "id": "ZvxiXEx3ix3R"
      }
    },
    {
      "cell_type": "code",
      "source": [
        "import matplotlib.pyplot as plt\n",
        "\n",
        "# Creating a simple plot\n",
        "plt.plot([1, 2, 3, 4], [1, 4, 9, 16])\n",
        "plt.xlabel(\"X-axis\")\n",
        "plt.ylabel(\"Y-axis\")\n",
        "plt.title(\"Simple Plot\")\n",
        "plt.show()"
      ],
      "metadata": {
        "colab": {
          "base_uri": "https://localhost:8080/",
          "height": 472
        },
        "id": "rQmPDTr0izBk",
        "outputId": "f602fef7-740d-47e9-f2e2-b23284eea0b7"
      },
      "execution_count": 31,
      "outputs": [
        {
          "output_type": "display_data",
          "data": {
            "text/plain": [
              "<Figure size 640x480 with 1 Axes>"
            ],
            "image/png": "[encoded data removed]"
          },
          "metadata": {}
        }
      ]
    },
    {
      "cell_type": "code",
      "source": [
        "# let's create a random matrix and plot it, similar to what we will do with functional connectivity\n",
        "# Create a random matrix\n",
        "m = np.random.rand(90*90).reshape(90,90)\n",
        "# plt.imshow is used to plot the matrix\n",
        "plt.imshow(m)"
      ],
      "metadata": {
        "colab": {
          "base_uri": "https://localhost:8080/",
          "height": 450
        },
        "id": "VO1XyAR3i0LP",
        "outputId": "3787a940-5ed3-4952-d20f-5785b120868b"
      },
      "execution_count": 32,
      "outputs": [
        {
          "output_type": "execute_result",
          "data": {
            "text/plain": [
              "<matplotlib.image.AxesImage at 0x7f05006dfc70>"
            ]
          },
          "metadata": {},
          "execution_count": 32
        },
        {
          "output_type": "display_data",
          "data": {
            "text/plain": [
              "<Figure size 640x480 with 1 Axes>"
            ],
            "image/png": "[encoded data removed]"
          },
          "metadata": {}
        }
      ]
    },
    {
      "cell_type": "markdown",
      "source": [
        "<div class=\"alert alert-block alert-success\">\n",
        "<b>Exercise 8 </b><p>\n",
        "Add to the previous image \"Region Index\" as the x- and y-label. Also add a colorbar (hint: plt.colorbar()). Finally, a title: \"FC\".\n",
        "Show the new image!\n",
        "<p>\n",
        "\n",
        "<p>\n",
        " -End of exercise-\n",
        "    </div>"
      ],
      "metadata": {
        "id": "6MdhlUPui1fX"
      }
    },
    {
      "cell_type": "code",
      "source": [
        "# Your code below this line:"
      ],
      "metadata": {
        "id": "gk-fl_Y-i4b5"
      },
      "execution_count": 33,
      "outputs": []
    },
    {
      "cell_type": "markdown",
      "source": [
        "## Bonus: Classes\n",
        "Classes are blueprints for creating objects (instances). A class can contain attributes (variables) and methods (functions) that define the behavior of the objects."
      ],
      "metadata": {
        "id": "JjHXuID-i6Pm"
      }
    },
    {
      "cell_type": "markdown",
      "source": [
        "# Define a class named Person\n",
        "class Person:\n",
        "    # Constructor method to initialize the object\n",
        "    def __init__(self, name, age):\n",
        "        self.name = name  # Attribute\n",
        "        self.age = age    # Attribute\n",
        "\n",
        "    # Method to display the person's information\n",
        "    def display_info(self):\n",
        "        return f\"Name: {self.name}, Age: {self.age}\"\n",
        "    \n",
        "    def greet(self):\n",
        "        return f\"Hello, {self.name}! I've been told you are {self.age} years old\"\n",
        "\n",
        "# Create an instance of the Person class\n",
        "person1 = Person(\"Alice\", 30)\n",
        "\n",
        "# Access the attributes\n",
        "print(person1.name)  # Output: Alice\n",
        "print(person1.age)   # Output: 30\n",
        "\n",
        "# Call the method\n",
        "print(person1.display_info())  # Output: Name: Alice, Age: 30\n",
        "print(person1.greet())"
      ],
      "metadata": {
        "id": "cND0C8f4i8V6"
      }
    },
    {
      "cell_type": "markdown",
      "source": [
        "Breaking It Down\n",
        "\n",
        "Class Definition: class Person:\n",
        "\n",
        "This line defines a new class called Person.\n",
        "\n",
        "Initialization Method: def __init__(self, name, age):\n",
        "\n",
        "This is a special method called a constructor. It runs when you create a new Person object.\n",
        "self refers to the instance of the class (like the specific person you're creating).\n",
        "name and age are parameters you provide when you create a new person.\n",
        "\n",
        "Instance Variables:\n",
        "\n",
        "    self.name = name\n",
        "    self.age = age\n",
        "\n",
        "These lines store the provided name and age in the new Person object."
      ],
      "metadata": {
        "id": "oVSmkgqAi-HT"
      }
    },
    {
      "cell_type": "markdown",
      "source": [
        "<div class=\"alert alert-block alert-success\">\n",
        "<b>Exercise Bonus3 </b><p>\n",
        "Create a class called Brain. This class should be initialized to contain a number of brain regions specified by the user (e.g., 1) and\n",
        "the names of these regions, inside a list (e.g., [\"frontal\"]). Modify the previous display_info() function from the Person class, so that it prints the number of brain regions and their names.\n",
        "Create an instance of the Brain class with 3 brain regions/lobes of your choice and their names as a list. Display the results using display_info()\n",
        "<p>\n",
        "\n",
        "<p>\n",
        " -End of exercise-\n",
        "    </div>"
      ],
      "metadata": {
        "id": "XnYasZvejAGG"
      }
    },
    {
      "cell_type": "code",
      "source": [
        "# Your code here:"
      ],
      "metadata": {
        "id": "M8GGljCajBqM"
      },
      "execution_count": 34,
      "outputs": []
    }
  ]
}